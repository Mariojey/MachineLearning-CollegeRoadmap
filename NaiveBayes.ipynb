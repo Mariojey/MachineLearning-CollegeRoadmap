{
  "nbformat": 4,
  "nbformat_minor": 0,
  "metadata": {
    "colab": {
      "provenance": []
    },
    "kernelspec": {
      "name": "python3",
      "display_name": "Python 3"
    },
    "language_info": {
      "name": "python"
    }
  },
  "cells": [
    {
      "cell_type": "code",
      "execution_count": 1,
      "metadata": {
        "id": "WTIKbWvUOiP8"
      },
      "outputs": [],
      "source": [
        "import pandas as pd"
      ]
    },
    {
      "cell_type": "code",
      "source": [
        "df = pd.read_csv('t_1_classification_bayes.csv')\n",
        "df.columns = ['feature0','color','feature2','class']"
      ],
      "metadata": {
        "id": "_Da_3RiARZsy"
      },
      "execution_count": 7,
      "outputs": []
    },
    {
      "cell_type": "markdown",
      "source": [
        "Klasyfikujemy (1,blue,2)\n",
        "\n",
        "Priory"
      ],
      "metadata": {
        "id": "Uicc7rW4SVyb"
      }
    },
    {
      "cell_type": "code",
      "source": [
        "p_class_up = ((df['class'] == 'UP').sum())/(df['class'].count())\n",
        "p_class_down = ((df['class'] == 'DOWN').sum())/(df['class'].count())\n",
        "\n"
      ],
      "metadata": {
        "id": "CaxbLh9YSbHK"
      },
      "execution_count": 10,
      "outputs": []
    },
    {
      "cell_type": "markdown",
      "source": [
        "Estymaty warunkowe"
      ],
      "metadata": {
        "id": "jUta0TsYTWHL"
      }
    },
    {
      "cell_type": "code",
      "source": [
        "p_feature_0_class_up = (((df['class'] == 'UP') & (df['feature0'] == 1)).sum())/((df['class'] == 'UP').sum())\n",
        "p_color_class_up = (((df['class'] == 'UP') & (df['color'] == 'blue')).sum())/((df['class'] == 'UP').sum())\n",
        "p_feature_2_class_up = (((df['class'] == 'UP') & (df['feature2'] == 2)).sum())/((df['class'] == 'UP').sum())\n",
        "\n",
        "p_1_blue_2_class_up = p_class_up * p_feature_0_class_up * p_color_class_up * p_feature_2_class_up\n",
        "\n",
        "p_feature_0_class_down = (((df['class'] == 'DOWN') & (df['feature0'] == 1)).sum())/((df['class'] == 'DOWN').sum())\n",
        "p_color_class_down = (((df['class'] == 'DOWN') & (df['color'] == 'blue')).sum())/((df['class'] == 'DOWN').sum())\n",
        "p_feature_2_class_down = (((df['class'] == 'DOWN') & (df['feature2'] == 2)).sum())/((df['class'] == 'DOWN').sum())\n",
        "\n",
        "p_1_blue_2_class_down = p_class_down * p_feature_0_class_down * p_color_class_down * p_feature_2_class_down"
      ],
      "metadata": {
        "id": "WSo4UIBrTZ0e"
      },
      "execution_count": 12,
      "outputs": []
    },
    {
      "cell_type": "code",
      "source": [
        "denominator_of_bayes = p_1_blue_2_class_up + p_1_blue_2_class_down\n",
        "bayes_of_class_up = p_1_blue_2_class_up/denominator_of_bayes\n",
        "bayes_of_class_down = p_1_blue_2_class_down/denominator_of_bayes\n",
        "\n",
        "print(bayes_of_class_up)\n",
        "print(bayes_of_class_down)\n",
        "\n",
        "if(bayes_of_class_up > bayes_of_class_down):\n",
        "  print(\"UP\")\n",
        "else:\n",
        "  print(\"DOWN\")"
      ],
      "metadata": {
        "colab": {
          "base_uri": "https://localhost:8080/"
        },
        "id": "327m3rURUJS8",
        "outputId": "99491779-8ace-4bcd-d036-66909558a857"
      },
      "execution_count": 13,
      "outputs": [
        {
          "output_type": "stream",
          "name": "stdout",
          "text": [
            "0.8299858377450582\n",
            "0.1700141622549418\n",
            "UP\n"
          ]
        }
      ]
    }
  ]
}